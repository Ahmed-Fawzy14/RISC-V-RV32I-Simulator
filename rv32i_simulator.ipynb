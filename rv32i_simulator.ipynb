{
  "metadata": {
    "kernelspec": {
      "name": "python",
      "display_name": "Python (Pyodide)",
      "language": "python"
    },
    "language_info": {
      "codemirror_mode": {
        "name": "python",
        "version": 3
      },
      "file_extension": ".py",
      "mimetype": "text/x-python",
      "name": "python",
      "nbconvert_exporter": "python",
      "pygments_lexer": "ipython3",
      "version": "3.8"
    }
  },
  "nbformat_minor": 4,
  "nbformat": 4,
  "cells": [
    {
      "cell_type": "code",
      "source": "#neccesary libraries\nregisters = [0] * 32\nprogram_counter = 0\nmemory = {}\nlabels = {}",
      "metadata": {
        "trusted": true
      },
      "outputs": [],
      "execution_count": null
    },
    {
      "cell_type": "code",
      "source": "# Funciton Definitions\n\n# Arithmetic and Logical Instructions\ndef add(rd, rs1, rs2):\n    global program_counter\n    if rd != 0:\n        registers[rd] = registers[rs1] + registers[rs2]\n    program_counter += 1\n\n\ndef sub(rd, rs1, rs2):\n    global program_counter\n    if rd != 0:\n        registers[rd] = registers[rs1] - registers[rs2]\n    program_counter += 1\n\n\ndef addi(rd, rs1, imm):\n    global program_counter\n    if rd != 0:\n        registers[rd] = registers[rs1] + imm\n    program_counter += 1\n\n\ndef andi(rd, rs1, imm):\n    global program_counter\n    if rd != 0:\n        registers[rd] = registers[rs1] & imm\n    program_counter += 1\n\n\ndef ori(rd, rs1, imm):\n    global program_counter\n    if rd != 0:\n        registers[rd] = registers[rs1] | imm\n    program_counter += 1\n\n\ndef xori(rd, rs1, imm):\n    global program_counter\n    if rd != 0:\n        registers[rd] = registers[rs1] ^ imm\n    program_counter += 1\n\n\n# Branch Instructions\ndef beq(rs1, rs2, target):\n    global program_counter\n    if registers[rs1] == registers[rs2]:\n        program_counter = target\n    else:\n        program_counter += 1\n\n\ndef bne(rs1, rs2, target):\n    global program_counter\n    if registers[rs1] != registers[rs2]:\n        program_counter = target\n    else:\n        program_counter += 1\n\n\ndef blt(rs1, rs2, target):\n    global program_counter\n    if registers[rs1] < registers[rs2]:\n        program_counter = target\n    else:\n        program_counter += 1\n\n\n# Memory Instructions\ndef lw(address, rd):\n    global program_counter\n    registers[rd] = memory.get(address, 0)\n    program_counter += 1\n\n\ndef sw(rs1, address):\n    global program_counter\n    memory[address] = registers[rs1]\n    program_counter += 1\n\n\n# Immediate Instructions\ndef lui(rd, imm):\n    global program_counter\n    registers[rd] = imm << 12\n    program_counter += 1\n\n\ndef auipc(rd, imm):\n    global program_counter\n    registers[rd] = program_counter + (imm << 12)\n    program_counter += 1",
      "metadata": {
        "trusted": true
      },
      "outputs": [],
      "execution_count": 1
    },
    {
      "cell_type": "code",
      "source": "# Synchronization and Halting Instructions\ndef pause():\n    global program_counter\n    print(\"PAUSE\")\n    program_counter += 1\n\n\ndef fence():\n    global program_counter\n    print(\"FENCE\")\n    program_counter += 1\n\n\ndef fence_tso():\n    global program_counter\n    print(\"FENCE.TSO\")\n    program_counter += 1\n\n\ndef ecall():\n    print(\"ECALL - Halting\")\n    return True\n\n\ndef ebreak():\n    print(\"EBREAK - Halting\")\n    return True\n\n\ndef printRegisters():\n    print(\"Registers:\", registers)\n    print(f\"Program Counter: {program_counter}\")\n\n",
      "metadata": {
        "trusted": true
      },
      "outputs": [],
      "execution_count": 2
    },
    {
      "cell_type": "code",
      "source": " ---------- Utility Functions ----------\ndef read_instructions_from_file(file_path):\n    with open(file_path, 'r') as file:\n        return file.readlines()\n\n\ndef instruction_splitting(line):\n    # Remove comments\n    line = line.split('#')[0].strip()\n    parts = line.split(',')\n\n    # Handle labels only\n    if len(parts) == 1 and parts[0].endswith(':'):\n        label = parts[0].strip().replace(':', '')\n        return None, None, None, None, None, label\n\n    if not parts[0]:\n        return None, None, None, None, None, None\n\n    opcode = parts[0].strip()\n    rd = parts[1].strip() if len(parts) > 1 else None\n    rs1 = parts[2].strip() if len(parts) > 2 else None\n    rs2 = parts[3].strip() if len(parts) > 3 else None\n    imm_or_label = parts[4].strip() if len(parts) > 4 else None\n    label = parts[5].strip() if len(parts) > 5 else None\n\n    rd = int(rd) if rd and rd.isdigit() else None\n    rs1 = int(rs1) if rs1 and rs1.isdigit() else None\n    rs2 = int(rs2) if rs2 and rs2.isdigit() else None\n    if imm_or_label and imm_or_label.isdigit():\n        imm_or_label = int(imm_or_label)\n\n    return opcode, rd, rs1, rs2, imm_or_label, label\n\n\ndef user_input():\n    global program_counter\n    print(\"Enter the instruction file path:\")\n    file_path = input().strip()\n    print(\"Enter the starting address of the program:\")\n    program_counter = int(input().strip())\n    return file_path\n",
      "metadata": {
        "trusted": true
      },
      "outputs": [
        {
          "ename": "<class 'SyntaxError'>",
          "evalue": "invalid syntax (<ipython-input-3-4fc6c4cbcb32>, line 1)",
          "traceback": [
            "\u001b[0;36m  Cell \u001b[0;32mIn[3], line 1\u001b[0;36m\u001b[0m\n\u001b[0;31m    ---------- Utility Functions ----------\u001b[0m\n\u001b[0m                       ^\u001b[0m\n\u001b[0;31mSyntaxError\u001b[0m\u001b[0;31m:\u001b[0m invalid syntax\n"
          ],
          "output_type": "error"
        }
      ],
      "execution_count": 3
    },
    {
      "cell_type": "code",
      "source": "def main():\n    global program_counter\n    file_path = user_input()\n    instruction_lines = read_instructions_from_file(file_path)\n\n    # First pass to register labels\n    for line_number, line in enumerate(instruction_lines):\n        opcode, rd, rs1, rs2, imm_or_label, label = instruction_splitting(line)\n        if label:\n            labels[label] = line_number\n\n    # Second pass to execute instructions\n    while program_counter < len(instruction_lines):\n        line = instruction_lines[program_counter]\n        opcode, rd, rs1, rs2, imm_or_label, _ = instruction_splitting(line)\n\n        if not opcode:\n            program_counter += 1\n            continue\n\n        if opcode in instructions:\n            if opcode in ['BEQ', 'BNE', 'BLT']:\n                target = labels[imm_or_label] if isinstance(imm_or_label, str) else imm_or_label\n                instructions[opcode](rs1, rs2, target)\n            else:\n                instructions[opcode](rd, rs1, rs2)\n\n        program_counter += 1\n\n    printRegisters()\n    print(\"Labels:\", labels)\n",
      "metadata": {
        "trusted": true
      },
      "outputs": [],
      "execution_count": null
    },
    {
      "cell_type": "code",
      "source": "# Instructions\ninstructions = {\n    'ADD': add,\n    'SUB': sub,\n    'ADDI': addi,\n    'ANDI': andi,\n    'ORI': ori,\n    'XORI': xori,\n    'LW': lw,\n    'SW': sw,\n    'LUI': lui,\n    'AUIPC': auipc,\n    'BEQ': beq,\n    'BNE': bne,\n    'BLT': blt,\n    'PAUSE': pause,\n    'FENCE': fence,\n    'FENCE.TSO': fence_tso,\n    'ECALL': ecall,\n    'EBREAK': ebreak\n}\n",
      "metadata": {
        "trusted": true
      },
      "outputs": [],
      "execution_count": null
    },
    {
      "cell_type": "code",
      "source": "if __name__ == \"__main__\":\n    main()",
      "metadata": {
        "trusted": true
      },
      "outputs": [],
      "execution_count": null
    }
  ]
}